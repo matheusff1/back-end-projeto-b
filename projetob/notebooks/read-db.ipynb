{
 "cells": [
  {
   "cell_type": "code",
   "execution_count": 1,
   "id": "b22412b1",
   "metadata": {},
   "outputs": [
    {
     "name": "stdout",
     "output_type": "stream",
     "text": [
      "Adicionado c:\\Users\\Usuario\\Documents\\Coisas\\projeto-b-backup\\server ao sys.path\n"
     ]
    }
   ],
   "source": [
    "import os\n",
    "import sys\n",
    "import django\n",
    "import pandas as pd\n",
    "import numpy as np\n",
    "\n",
    "cwd = os.getcwd()\n",
    "\n",
    "BASE_DIR = os.path.abspath(os.path.join(cwd, '..', '..'))  \n",
    "\n",
    "if BASE_DIR not in sys.path:\n",
    "    sys.path.append(BASE_DIR)\n",
    "    print(f\"Adicionado {BASE_DIR} ao sys.path\")\n",
    "\n",
    "os.environ.setdefault(\"DJANGO_SETTINGS_MODULE\", \"projetob.settings\")\n",
    "\n",
    "django.setup()\n",
    "\n",
    "from api.models import *\n",
    "from asgiref.sync import sync_to_async"
   ]
  },
  {
   "cell_type": "code",
   "execution_count": 2,
   "id": "fbd0c41d",
   "metadata": {},
   "outputs": [
    {
     "name": "stdout",
     "output_type": "stream",
     "text": [
      "      id        date  close   high    low   open  volume symbol\n",
      "0  17344  1927-12-30  17.66  17.66  17.66  17.66       0  ^GSPC\n",
      "1  17345  1928-01-03  17.76  17.76  17.76  17.76       0  ^GSPC\n",
      "2  17346  1928-01-04  17.72  17.72  17.72  17.72       0  ^GSPC\n",
      "3  17347  1928-01-05  17.55  17.55  17.55  17.55       0  ^GSPC\n",
      "4  17348  1928-01-06  17.66  17.66  17.66  17.66       0  ^GSPC\n"
     ]
    }
   ],
   "source": [
    "async def get_marketdata_df():\n",
    "    qs = await sync_to_async(list)(MarketData.objects.all().values())\n",
    "    df = pd.DataFrame(qs)\n",
    "    return df\n",
    "\n",
    "# Executa e recebe o DataFrame\n",
    "df_marketdata = await get_marketdata_df()\n",
    "print(df_marketdata.head())"
   ]
  },
  {
   "cell_type": "code",
   "execution_count": 3,
   "id": "f804c684",
   "metadata": {},
   "outputs": [
    {
     "name": "stdout",
     "output_type": "stream",
     "text": [
      "<class 'pandas.core.frame.DataFrame'>\n",
      "RangeIndex: 280052 entries, 0 to 280051\n",
      "Data columns (total 8 columns):\n",
      " #   Column  Non-Null Count   Dtype \n",
      "---  ------  --------------   ----- \n",
      " 0   id      280052 non-null  int64 \n",
      " 1   date    280052 non-null  object\n",
      " 2   close   280052 non-null  object\n",
      " 3   high    280052 non-null  object\n",
      " 4   low     280052 non-null  object\n",
      " 5   open    280052 non-null  object\n",
      " 6   volume  280052 non-null  int64 \n",
      " 7   symbol  280052 non-null  object\n",
      "dtypes: int64(2), object(6)\n",
      "memory usage: 17.1+ MB\n"
     ]
    }
   ],
   "source": [
    "df_marketdata.info()  "
   ]
  },
  {
   "cell_type": "code",
   "execution_count": 4,
   "id": "28b5cbed",
   "metadata": {},
   "outputs": [
    {
     "name": "stdout",
     "output_type": "stream",
     "text": [
      "Symbols no BD: ['^GSPC' 'M2SL' '^FVX' 'NFCI' 'SPGI' 'DHR' 'AAPL' 'UNH' 'TEDRATE' 'MSFT'\n",
      " '^BVSP' 'BRFS' 'AMZN' 'NVDA' 'ITSA4.SA' 'PETR4.SA' 'VALE3.SA' 'WEGE3.SA'\n",
      " 'ABEV3.SA' 'DX=F' 'ZC=F' 'CL=F' 'GC=F' 'NG=F' 'ZS=F' 'ITUB4.SA' 'BRL=X'\n",
      " 'GOOGL' 'Selic_Over' 'Selic_Over_Long' 'CDI' 'Swap_DI_5Y' 'CSAN3.SA'\n",
      " 'GSG' 'BZ=F' 'B3SA3.SA' 'CDS_Brasil_5Y' 'BBDC4.SA' 'BTGIMABFIRF.SA'\n",
      " 'CDS_USA_5Y' 'TSLA' 'META' 'BTC-USD' 'NTNS11.SA']\n"
     ]
    }
   ],
   "source": [
    "print(\"Symbols no BD:\", df_marketdata['symbol'].unique())"
   ]
  },
  {
   "cell_type": "code",
   "execution_count": 12,
   "id": "62b132ec",
   "metadata": {},
   "outputs": [
    {
     "data": {
      "text/html": [
       "<div>\n",
       "<style scoped>\n",
       "    .dataframe tbody tr th:only-of-type {\n",
       "        vertical-align: middle;\n",
       "    }\n",
       "\n",
       "    .dataframe tbody tr th {\n",
       "        vertical-align: top;\n",
       "    }\n",
       "\n",
       "    .dataframe thead th {\n",
       "        text-align: right;\n",
       "    }\n",
       "</style>\n",
       "<table border=\"1\" class=\"dataframe\">\n",
       "  <thead>\n",
       "    <tr style=\"text-align: right;\">\n",
       "      <th></th>\n",
       "      <th>id</th>\n",
       "      <th>date</th>\n",
       "      <th>results</th>\n",
       "      <th>symbol</th>\n",
       "      <th>prediction</th>\n",
       "    </tr>\n",
       "  </thead>\n",
       "  <tbody>\n",
       "    <tr>\n",
       "      <th>0</th>\n",
       "      <td>65</td>\n",
       "      <td>2025-10-16</td>\n",
       "      <td>{'history': {'loss': [0.005554144736379385, 0....</td>\n",
       "      <td>AAPL</td>\n",
       "      <td>[236.6743927001953, 235.437744140625, 235.1471...</td>\n",
       "    </tr>\n",
       "    <tr>\n",
       "      <th>1</th>\n",
       "      <td>66</td>\n",
       "      <td>2025-10-16</td>\n",
       "      <td>{'history': {'loss': [0.011958727613091469, 0....</td>\n",
       "      <td>ABEV3.SA</td>\n",
       "      <td>[11.814314842224121, 11.907608032226562, 11.84...</td>\n",
       "    </tr>\n",
       "    <tr>\n",
       "      <th>2</th>\n",
       "      <td>67</td>\n",
       "      <td>2025-10-16</td>\n",
       "      <td>{'history': {'loss': [0.008539831265807152, 0....</td>\n",
       "      <td>AMZN</td>\n",
       "      <td>[218.88583374023438, 220.56967163085938, 218.8...</td>\n",
       "    </tr>\n",
       "    <tr>\n",
       "      <th>3</th>\n",
       "      <td>68</td>\n",
       "      <td>2025-10-16</td>\n",
       "      <td>{'history': {'loss': [0.00551522197201848, 0.0...</td>\n",
       "      <td>B3SA3.SA</td>\n",
       "      <td>[12.833183288574219, 12.811125755310059, 12.85...</td>\n",
       "    </tr>\n",
       "    <tr>\n",
       "      <th>4</th>\n",
       "      <td>69</td>\n",
       "      <td>2025-10-16</td>\n",
       "      <td>{'history': {'loss': [0.008469405584037304, 0....</td>\n",
       "      <td>BBDC4.SA</td>\n",
       "      <td>[17.071815490722656, 17.06732749938965, 17.035...</td>\n",
       "    </tr>\n",
       "  </tbody>\n",
       "</table>\n",
       "</div>"
      ],
      "text/plain": [
       "   id        date                                            results  \\\n",
       "0  65  2025-10-16  {'history': {'loss': [0.005554144736379385, 0....   \n",
       "1  66  2025-10-16  {'history': {'loss': [0.011958727613091469, 0....   \n",
       "2  67  2025-10-16  {'history': {'loss': [0.008539831265807152, 0....   \n",
       "3  68  2025-10-16  {'history': {'loss': [0.00551522197201848, 0.0...   \n",
       "4  69  2025-10-16  {'history': {'loss': [0.008469405584037304, 0....   \n",
       "\n",
       "     symbol                                         prediction  \n",
       "0      AAPL  [236.6743927001953, 235.437744140625, 235.1471...  \n",
       "1  ABEV3.SA  [11.814314842224121, 11.907608032226562, 11.84...  \n",
       "2      AMZN  [218.88583374023438, 220.56967163085938, 218.8...  \n",
       "3  B3SA3.SA  [12.833183288574219, 12.811125755310059, 12.85...  \n",
       "4  BBDC4.SA  [17.071815490722656, 17.06732749938965, 17.035...  "
      ]
     },
     "execution_count": 12,
     "metadata": {},
     "output_type": "execute_result"
    }
   ],
   "source": [
    "async def get_predictiondata_df():\n",
    "    qs = await sync_to_async(list)(Prediction.objects.all().values())\n",
    "    return pd.DataFrame(qs)\n",
    "\n",
    "df_prediction = await get_predictiondata_df()\n",
    "df_prediction.head()"
   ]
  },
  {
   "cell_type": "code",
   "execution_count": 13,
   "id": "cd9a3954",
   "metadata": {},
   "outputs": [
    {
     "name": "stdout",
     "output_type": "stream",
     "text": [
      "AAPL, 2025-10-16: {'loss': 0.0016586844576522708, 'mae': 0.032063182443380356}. 5\n",
      "ABEV3.SA, 2025-10-16: {'loss': 0.000304333952954039, 'mae': 0.012372687458992004}. 5\n",
      "AMZN, 2025-10-16: {'loss': 0.0016062386566773057, 'mae': 0.03145165741443634}. 5\n",
      "B3SA3.SA, 2025-10-16: {'loss': 0.0005087834433652461, 'mae': 0.01698801852762699}. 5\n",
      "BBDC4.SA, 2025-10-16: {'loss': 0.0004614948411472142, 'mae': 0.015609415248036385}. 5\n",
      "BRFS, 2025-10-16: {'loss': 8.997957047540694e-05, 'mae': 0.007679832633584738}. 5\n",
      "BRL=X, 2025-10-16: {'loss': 0.0006019059219397604, 'mae': 0.020095832645893097}. 5\n",
      "BTC-USD, 2025-10-16: {'loss': 0.0031094427686184645, 'mae': 0.04208812117576599}. 5\n",
      "BZ=F, 2025-10-16: {'loss': 0.0003603784425649792, 'mae': 0.0136646069586277}. 5\n",
      "CDI, 2025-10-16: {'loss': 0.0008818574133329093, 'mae': 0.010821052826941013}. 5\n",
      "CDS_USA_5Y, 2025-10-16: {'loss': 0.0006700585363432765, 'mae': 0.017232272773981094}. 5\n",
      "CL=F, 2025-10-16: {'loss': 0.0001899718918139115, 'mae': 0.010097546502947807}. 5\n",
      "CSAN3.SA, 2025-10-16: {'loss': 0.0008776559843681753, 'mae': 0.02454523928463459}. 5\n",
      "DHR, 2025-10-16: {'loss': 0.00104132283013314, 'mae': 0.023635920137166977}. 5\n",
      "DX=F, 2025-10-16: {'loss': 0.00042699489858932793, 'mae': 0.016108844429254532}. 5\n",
      "GC=F, 2025-10-16: {'loss': 0.011089522391557693, 'mae': 0.08015245199203491}. 5\n",
      "GOOGL, 2025-10-16: {'loss': 0.0010813971748575568, 'mae': 0.02352667599916458}. 5\n",
      "GSG, 2025-10-16: {'loss': 0.00021514091349672526, 'mae': 0.011886240914463997}. 5\n",
      "ITSA4.SA, 2025-10-16: {'loss': 0.006434641778469086, 'mae': 0.06151432543992996}. 5\n",
      "ITUB4.SA, 2025-10-16: {'loss': 0.0006541858892887831, 'mae': 0.018715711310505867}. 5\n",
      "META, 2025-10-16: {'loss': 0.00124054541811347, 'mae': 0.025847652927041054}. 5\n",
      "MSFT, 2025-10-16: {'loss': 0.0005960390553809702, 'mae': 0.018325701355934143}. 5\n",
      "NG=F, 2025-10-16: {'loss': 0.0005226461216807365, 'mae': 0.01756124384701252}. 5\n",
      "NVDA, 2025-10-16: {'loss': 0.03654526546597481, 'mae': 0.1638915091753006}. 5\n",
      "PETR4.SA, 2025-10-16: {'loss': 0.0016699217958375812, 'mae': 0.03374195471405983}. 5\n",
      "SPGI, 2025-10-16: {'loss': 0.0007957971538417041, 'mae': 0.02166830189526081}. 5\n",
      "TEDRATE, 2025-10-16: {'loss': 1.34651700136601e-05, 'mae': 0.003209025366231799}. 5\n",
      "TSLA, 2025-10-16: {'loss': 0.0027324212715029716, 'mae': 0.038682010024785995}. 5\n",
      "UNH, 2025-10-16: {'loss': 0.0014651595847681165, 'mae': 0.02537306770682335}. 5\n",
      "VALE3.SA, 2025-10-16: {'loss': 0.0005816075718030334, 'mae': 0.01848481222987175}. 5\n",
      "WEGE3.SA, 2025-10-16: {'loss': 0.0018755659693852067, 'mae': 0.03346768394112587}. 5\n",
      "ZC=F, 2025-10-16: {'loss': 0.0002942588471341878, 'mae': 0.012839841656386852}. 5\n",
      "ZS=F, 2025-10-16: {'loss': 0.0003521694161463529, 'mae': 0.014553498476743698}. 5\n",
      "^BVSP, 2025-10-16: {'loss': 0.0003235708281863481, 'mae': 0.014024668373167515}. 5\n",
      "^FVX, 2025-10-16: {'loss': 0.0003310273459646851, 'mae': 0.013198981061577797}. 5\n",
      "^GSPC, 2025-10-16: {'loss': 0.0005106597673147917, 'mae': 0.01583300530910492}. 5\n"
     ]
    }
   ],
   "source": [
    "metrics = []\n",
    "for j, row in df_prediction.iterrows():\n",
    "    print(f'{row['symbol']}, {row['date']}: {row['results']['metrics']}. {row['results']['n_features']}')\n",
    "    metrics.append(row['results']['metrics'])\n"
   ]
  },
  {
   "cell_type": "code",
   "execution_count": 14,
   "id": "998bdc16",
   "metadata": {},
   "outputs": [
    {
     "data": {
      "text/html": [
       "<div>\n",
       "<style scoped>\n",
       "    .dataframe tbody tr th:only-of-type {\n",
       "        vertical-align: middle;\n",
       "    }\n",
       "\n",
       "    .dataframe tbody tr th {\n",
       "        vertical-align: top;\n",
       "    }\n",
       "\n",
       "    .dataframe thead th {\n",
       "        text-align: right;\n",
       "    }\n",
       "</style>\n",
       "<table border=\"1\" class=\"dataframe\">\n",
       "  <thead>\n",
       "    <tr style=\"text-align: right;\">\n",
       "      <th></th>\n",
       "      <th>loss</th>\n",
       "      <th>mae</th>\n",
       "    </tr>\n",
       "  </thead>\n",
       "  <tbody>\n",
       "    <tr>\n",
       "      <th>count</th>\n",
       "      <td>36.000000</td>\n",
       "      <td>36.000000</td>\n",
       "    </tr>\n",
       "    <tr>\n",
       "      <th>mean</th>\n",
       "      <td>0.002281</td>\n",
       "      <td>0.026693</td>\n",
       "    </tr>\n",
       "    <tr>\n",
       "      <th>std</th>\n",
       "      <td>0.006218</td>\n",
       "      <td>0.027802</td>\n",
       "    </tr>\n",
       "    <tr>\n",
       "      <th>min</th>\n",
       "      <td>0.000013</td>\n",
       "      <td>0.003209</td>\n",
       "    </tr>\n",
       "    <tr>\n",
       "      <th>25%</th>\n",
       "      <td>0.000358</td>\n",
       "      <td>0.013935</td>\n",
       "    </tr>\n",
       "    <tr>\n",
       "      <th>50%</th>\n",
       "      <td>0.000628</td>\n",
       "      <td>0.018405</td>\n",
       "    </tr>\n",
       "    <tr>\n",
       "      <th>75%</th>\n",
       "      <td>0.001500</td>\n",
       "      <td>0.027249</td>\n",
       "    </tr>\n",
       "    <tr>\n",
       "      <th>max</th>\n",
       "      <td>0.036545</td>\n",
       "      <td>0.163892</td>\n",
       "    </tr>\n",
       "  </tbody>\n",
       "</table>\n",
       "</div>"
      ],
      "text/plain": [
       "            loss        mae\n",
       "count  36.000000  36.000000\n",
       "mean    0.002281   0.026693\n",
       "std     0.006218   0.027802\n",
       "min     0.000013   0.003209\n",
       "25%     0.000358   0.013935\n",
       "50%     0.000628   0.018405\n",
       "75%     0.001500   0.027249\n",
       "max     0.036545   0.163892"
      ]
     },
     "execution_count": 14,
     "metadata": {},
     "output_type": "execute_result"
    }
   ],
   "source": [
    "metrics_df = pd.DataFrame(metrics)\n",
    "metrics_df.describe()"
   ]
  }
 ],
 "metadata": {
  "kernelspec": {
   "display_name": "Python 3",
   "language": "python",
   "name": "python3"
  },
  "language_info": {
   "codemirror_mode": {
    "name": "ipython",
    "version": 3
   },
   "file_extension": ".py",
   "mimetype": "text/x-python",
   "name": "python",
   "nbconvert_exporter": "python",
   "pygments_lexer": "ipython3",
   "version": "3.12.2"
  }
 },
 "nbformat": 4,
 "nbformat_minor": 5
}
